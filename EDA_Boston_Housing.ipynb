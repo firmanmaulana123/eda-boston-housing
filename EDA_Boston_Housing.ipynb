{
 "cells": [
  {
   "cell_type": "markdown",
   "id": "742d7751",
   "metadata": {},
   "source": [
    "\n",
    "# 🏡 EDA: Boston Housing Dataset\n",
    "\n",
    "## Deskripsi\n",
    "Notebook ini menampilkan proses **Exploratory Data Analysis (EDA)** pada dataset Boston Housing. Dataset ini sering digunakan untuk studi kasus **regresi** dalam Machine Learning.\n",
    "\n",
    "### Tujuan:\n",
    "Memprediksi harga rumah (MEDV) berdasarkan fitur-fitur lingkungan dan properti.\n"
   ]
  },
  {
   "cell_type": "code",
   "execution_count": null,
   "id": "5f52d544",
   "metadata": {},
   "outputs": [],
   "source": [
    "\n",
    "import pandas as pd\n",
    "import numpy as np\n",
    "import seaborn as sns\n",
    "import matplotlib.pyplot as plt\n",
    "from sklearn.datasets import load_boston\n",
    "from sklearn.preprocessing import StandardScaler\n",
    "import warnings\n",
    "warnings.filterwarnings('ignore')\n"
   ]
  },
  {
   "cell_type": "code",
   "execution_count": null,
   "id": "445bd8f7",
   "metadata": {},
   "outputs": [],
   "source": [
    "\n",
    "boston = load_boston()\n",
    "df = pd.DataFrame(boston.data, columns=boston.feature_names)\n",
    "df['MEDV'] = boston.target\n",
    "\n",
    "df.head()\n"
   ]
  },
  {
   "cell_type": "code",
   "execution_count": null,
   "id": "ece1cee0",
   "metadata": {},
   "outputs": [],
   "source": [
    "\n",
    "df.info()\n"
   ]
  },
  {
   "cell_type": "code",
   "execution_count": null,
   "id": "24364b79",
   "metadata": {},
   "outputs": [],
   "source": [
    "\n",
    "df.describe()\n"
   ]
  },
  {
   "cell_type": "code",
   "execution_count": null,
   "id": "78c8a357",
   "metadata": {},
   "outputs": [],
   "source": [
    "\n",
    "df.isnull().sum()\n"
   ]
  },
  {
   "cell_type": "code",
   "execution_count": null,
   "id": "fa0d8f7a",
   "metadata": {},
   "outputs": [],
   "source": [
    "\n",
    "plt.figure(figsize=(12,10))\n",
    "sns.heatmap(df.corr(), annot=True, cmap='coolwarm')\n",
    "plt.title(\"Korelasi antar fitur\")\n",
    "plt.show()\n"
   ]
  },
  {
   "cell_type": "code",
   "execution_count": null,
   "id": "01fbea85",
   "metadata": {},
   "outputs": [],
   "source": [
    "\n",
    "sns.histplot(df['MEDV'], bins=30, kde=True)\n",
    "plt.title(\"Distribusi Harga Rumah (MEDV)\")\n",
    "plt.xlabel(\"MEDV\")\n",
    "plt.ylabel(\"Frekuensi\")\n",
    "plt.show()\n"
   ]
  },
  {
   "cell_type": "code",
   "execution_count": null,
   "id": "7b77c341",
   "metadata": {},
   "outputs": [],
   "source": [
    "\n",
    "sns.scatterplot(x=df['RM'], y=df['MEDV'])\n",
    "plt.title(\"Jumlah Kamar (RM) vs Harga Rumah (MEDV)\")\n",
    "plt.xlabel(\"RM\")\n",
    "plt.ylabel(\"MEDV\")\n",
    "plt.show()\n",
    "\n",
    "sns.scatterplot(x=df['LSTAT'], y=df['MEDV'])\n",
    "plt.title(\"Persentase Populasi Rendah (LSTAT) vs Harga Rumah (MEDV)\")\n",
    "plt.xlabel(\"LSTAT\")\n",
    "plt.ylabel(\"MEDV\")\n",
    "plt.show()\n"
   ]
  },
  {
   "cell_type": "code",
   "execution_count": null,
   "id": "c8cb0871",
   "metadata": {},
   "outputs": [],
   "source": [
    "\n",
    "scaler = StandardScaler()\n",
    "df[['CRIM_scaled', 'AGE_scaled']] = scaler.fit_transform(df[['CRIM', 'AGE']])\n",
    "\n",
    "# Fitur turunan\n",
    "df['Room_per_age'] = df['RM'] / df['AGE']\n",
    "\n",
    "df[['CRIM_scaled', 'AGE_scaled', 'Room_per_age']].head()\n"
   ]
  }
 ],
 "metadata": {
  "language_info": {
   "name": "python"
  }
 },
 "nbformat": 4,
 "nbformat_minor": 5
}
